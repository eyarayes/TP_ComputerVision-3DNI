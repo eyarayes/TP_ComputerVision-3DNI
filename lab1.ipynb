{
 "cells": [
  {
   "cell_type": "markdown",
   "id": "0e3bcf3d",
   "metadata": {},
   "source": [
    "1.1 Installation and Setup"
   ]
  },
  {
   "cell_type": "code",
   "execution_count": null,
   "id": "3d514bca",
   "metadata": {},
   "outputs": [],
   "source": [
    "#!pip install opencv-python"
   ]
  },
  {
   "cell_type": "markdown",
   "id": "a6382c0a",
   "metadata": {},
   "source": [
    "Importations :"
   ]
  },
  {
   "cell_type": "code",
   "execution_count": 1,
   "id": "db8b49d0",
   "metadata": {},
   "outputs": [],
   "source": [
    "import cv2\n",
    "import numpy as np"
   ]
  },
  {
   "cell_type": "markdown",
   "id": "0a791bf6",
   "metadata": {},
   "source": [
    "1.2 Loading and Displaying Image"
   ]
  },
  {
   "cell_type": "code",
   "execution_count": null,
   "id": "2843cd52",
   "metadata": {},
   "outputs": [],
   "source": [
    "path = \"C:/Users/INFOTEC/Desktop/lab1/bird.jpg\"\n",
    "image = cv2.imread(path)\n",
    "# lignes obligatoires pour chaque affichage\n",
    "cv2.imshow('image', image)\n",
    "cv2.waitKey(0)\n",
    "cv2.destroyAllWindows() "
   ]
  },
  {
   "cell_type": "markdown",
   "id": "1c5e2df1",
   "metadata": {},
   "source": [
    "1.3 Image Transformations"
   ]
  },
  {
   "cell_type": "code",
   "execution_count": null,
   "id": "7b6f5e05",
   "metadata": {},
   "outputs": [],
   "source": [
    "# Flipping\n",
    "flipVertical = cv2.flip(image, 0)\n",
    "flipHorizontal = cv2.flip(image, 1)\n",
    "flipBoth = cv2.flip(image, -1)\n",
    "#display images\n",
    "cv2.imshow('flipped vertical image' , flipVertical)\n",
    "cv2.imshow('flipped horizontal image' , flipHorizontal)\n",
    "cv2.imshow('flipped both image' , flipBoth)\n",
    "cv2.waitKey(0)\n",
    "cv2.destroyAllWindows()"
   ]
  },
  {
   "cell_type": "code",
   "execution_count": null,
   "id": "6f959d06",
   "metadata": {},
   "outputs": [],
   "source": [
    "# Cropping\n",
    "\n",
    "cropped_image = image[80:280, 150:330]\n",
    "\n",
    "#display images\n",
    "cv2.imshow(\"cropped\", cropped_image)\n",
    "cv2.waitKey(0)\n",
    "cv2.destroyAllWindows()"
   ]
  },
  {
   "cell_type": "code",
   "execution_count": null,
   "id": "8d5a2e92",
   "metadata": {},
   "outputs": [],
   "source": [
    "# Scaling\n",
    "\n",
    "#downscale the image using new width and heith\n",
    "down_width = 300\n",
    "down_height = 200\n",
    "down_points = (down_width, down_height)\n",
    "resized_down = cv2.resize(image, down_points, interpolation= cv2.INTER_LINEAR)\n",
    "\n",
    "#upscale the image using new width and heith\n",
    "up_width = 600\n",
    "up_height = 400\n",
    "up_points = (up_width, up_height)\n",
    "resized_down = cv2.resize(image, up_points, interpolation= cv2.INTER_LINEAR)\n",
    "\n",
    "#display images\n",
    "cv2.imshow('Resized Down by defining height and width' , resized_down)\n",
    "cv2.imshow('Resized Up image by defining height and width' , resized_up)\n",
    "\n",
    "cv2.waitKey()\n",
    "cv2.destroyAllWindows()"
   ]
  },
  {
   "cell_type": "code",
   "execution_count": null,
   "id": "578aef18",
   "metadata": {},
   "outputs": [],
   "source": [
    "#Rotating\n",
    "cols, rows = image.shape[:2]\n",
    "#using cv2.getRotationMatrix2D() to get the rotation matrix\n",
    "M = cv2.getRotationMatrix2D((cols/2),angle=45, scale=1)\n",
    "#rotate the image using cv2.warpAffine\n",
    "rotated = cv2.warpAffine(image,M,(cols, rows))\n",
    "#display images\n",
    "cv2.imshow('Rotated image' , rotated_image)\n",
    "cv2.waitKey(0)\n",
    "cv2.destroyAllWindows()"
   ]
  },
  {
   "cell_type": "code",
   "execution_count": null,
   "id": "187f825b",
   "metadata": {},
   "outputs": [],
   "source": [
    "# resize image\n",
    "image = cv2.imread('bird.jpg')\n",
    "bigger = cv2.resize(image, (1050, 1610))\n",
    "#display images\n",
    "cv2.imshow(\"scale\", bigger) \n",
    "cv2.waitKey(0) \n",
    "cv2.destroyAllWindows() "
   ]
  },
  {
   "cell_type": "code",
   "execution_count": null,
   "id": "5e5ceec4",
   "metadata": {},
   "outputs": [],
   "source": [
    "#image brightness \n",
    "image = cv2.imread('bird.jpg',1)\n",
    "rows,cols,ch = image.shape \n",
    "matrix = np.ones(image.shape, dtype = \"uint8\") * 120 \n",
    "image = cv2.add(image, matrix) \n",
    "#display images\n",
    "cv2.imshow(\"brightness\", image) \n",
    "cv2.waitKey(0) \n",
    "cv2.destroyAllWindows()\n"
   ]
  },
  {
   "cell_type": "code",
   "execution_count": null,
   "id": "853b2cac",
   "metadata": {},
   "outputs": [],
   "source": [
    " #image Median Blur\n",
    "    image = cv2.imread('bird.jpg',1)\n",
    "    rows,cols,ch = image.shape\n",
    "    ksize=[10,10] \n",
    "    image=cv2.blur(image,ksize)\n",
    "    #display images\n",
    "    cv2.imshow(\"Blur\", image)\n",
    "    cv2.waitKey(0) \n",
    "    cv2.destroyAllWindows() "
   ]
  },
  {
   "cell_type": "code",
   "execution_count": null,
   "id": "ad8f83f2",
   "metadata": {},
   "outputs": [],
   "source": [
    "#image sharpening \n",
    "image = cv2.imread('bird.jpg',1) \n",
    "sharpened = cv2.filter2D(image, -1, np.array([[0, -1, 0], [-1, 5, -1], [0, -1, 0]])) \n",
    "cv2.imshow(\"sharpened\", sharpened)\n",
    "cv2.waitKey(0) \n",
    "cv2.destroyAllWindows()\n",
    "image_augmentation(image)"
   ]
  }
 ],
 "metadata": {
  "kernelspec": {
   "display_name": "Python 3",
   "language": "python",
   "name": "python3"
  },
  "language_info": {
   "codemirror_mode": {
    "name": "ipython",
    "version": 3
   },
   "file_extension": ".py",
   "mimetype": "text/x-python",
   "name": "python",
   "nbconvert_exporter": "python",
   "pygments_lexer": "ipython3",
   "version": "3.7.13"
  }
 },
 "nbformat": 4,
 "nbformat_minor": 5
}
